{
 "cells": [
  {
   "cell_type": "markdown",
   "metadata": {
    "application/vnd.databricks.v1+cell": {
     "cellMetadata": {},
     "inputWidgets": {},
     "nuid": "998874f6-f184-424a-82bc-95c959ac5de0",
     "showTitle": false,
     "tableResultSettingsMap": {},
     "title": ""
    }
   },
   "source": [
    "### Muhammad Areeb Kazmi - mk07202@st.habib.edu.pk"
   ]
  },
  {
   "cell_type": "code",
   "execution_count": 0,
   "metadata": {
    "application/vnd.databricks.v1+cell": {
     "cellMetadata": {
      "byteLimit": 2048000,
      "rowLimit": 10000
     },
     "inputWidgets": {},
     "nuid": "995767c2-8fbe-4a7d-80ac-3109c45de204",
     "showTitle": false,
     "tableResultSettingsMap": {},
     "title": ""
    }
   },
   "outputs": [],
   "source": [
    "from pyspark import SparkConf, SparkContext\n",
    "from pyspark.sql import SQLContext, SparkSession\n",
    "\n",
    "#sc is the Spark Context already available at databricks, so we do not need to create it again.\n",
    "#sc = SparkContext()\n",
    "# sqlContext = SQLContext(sc)\n",
    "\n",
    "# from pyspark.sql import SparkSession\n",
    "sqlContext = SparkSession.builder.appName('abc').getOrCreate()"
   ]
  },
  {
   "cell_type": "markdown",
   "metadata": {
    "application/vnd.databricks.v1+cell": {
     "cellMetadata": {},
     "inputWidgets": {},
     "nuid": "dad83ce3-0a95-468b-be6b-eeb20a725806",
     "showTitle": false,
     "tableResultSettingsMap": {},
     "title": ""
    }
   },
   "source": [
    "# Creating RDD (Resilient Distributed Dataset) - fundamental data structure of Spark"
   ]
  },
  {
   "cell_type": "code",
   "execution_count": 0,
   "metadata": {
    "application/vnd.databricks.v1+cell": {
     "cellMetadata": {
      "byteLimit": 2048000,
      "rowLimit": 10000
     },
     "inputWidgets": {},
     "nuid": "85a92d7d-862a-43da-a8e8-c1505a52225f",
     "showTitle": false,
     "tableResultSettingsMap": {},
     "title": ""
    }
   },
   "outputs": [],
   "source": [
    "products = sc.textFile(\"/FileStore/tables/SalesData_1_.txt\")"
   ]
  },
  {
   "cell_type": "code",
   "execution_count": 0,
   "metadata": {
    "application/vnd.databricks.v1+cell": {
     "cellMetadata": {
      "byteLimit": 2048000,
      "rowLimit": 10000
     },
     "inputWidgets": {},
     "nuid": "2aa738f2-f4d1-4901-aad0-d5a8ee807c89",
     "showTitle": false,
     "tableResultSettingsMap": {},
     "title": ""
    }
   },
   "outputs": [
    {
     "output_type": "stream",
     "name": "stdout",
     "output_type": "stream",
     "text": [
      "Out[3]: 'ProductID\\tName\\tProductNumber\\tColor\\tStandardCost\\tListPrice\\tSize\\tWeight\\tProductCategoryID\\tProductModelID\\tSellStartDate\\tSellEndDate\\tDiscontinuedDate\\tThumbNailPhoto\\tThumbnailPhotoFileName\\trowguid\\tModifiedDate'"
     ]
    }
   ],
   "source": [
    "products.first()"
   ]
  },
  {
   "cell_type": "code",
   "execution_count": 0,
   "metadata": {
    "application/vnd.databricks.v1+cell": {
     "cellMetadata": {
      "byteLimit": 2048000,
      "rowLimit": 10000
     },
     "inputWidgets": {},
     "nuid": "1d226610-9a0e-4915-9861-82c2b2163b0c",
     "showTitle": false,
     "tableResultSettingsMap": {},
     "title": ""
    }
   },
   "outputs": [
    {
     "output_type": "stream",
     "name": "stdout",
     "output_type": "stream",
     "text": [
      "The data has 17 columns\nOut[4]: ['ProductID',\n 'Name',\n 'ProductNumber',\n 'Color',\n 'StandardCost',\n 'ListPrice',\n 'Size',\n 'Weight',\n 'ProductCategoryID',\n 'ProductModelID',\n 'SellStartDate',\n 'SellEndDate',\n 'DiscontinuedDate',\n 'ThumbNailPhoto',\n 'ThumbnailPhotoFileName',\n 'rowguid',\n 'ModifiedDate']"
     ]
    }
   ],
   "source": [
    "print(\"The data has {} columns\".format(len(products.first().split(\"\\t\"))))\n",
    "header = products.first().split(\"\\t\")\n",
    "header"
   ]
  },
  {
   "cell_type": "code",
   "execution_count": 0,
   "metadata": {
    "application/vnd.databricks.v1+cell": {
     "cellMetadata": {
      "byteLimit": 2048000,
      "rowLimit": 10000
     },
     "inputWidgets": {},
     "nuid": "ae301838-99e7-4a98-9531-f399521e6e46",
     "showTitle": false,
     "tableResultSettingsMap": {},
     "title": ""
    }
   },
   "outputs": [],
   "source": [
    "head = products.first()\n",
    "content = products.filter(lambda line: line != head)"
   ]
  },
  {
   "cell_type": "code",
   "execution_count": 0,
   "metadata": {
    "application/vnd.databricks.v1+cell": {
     "cellMetadata": {
      "byteLimit": 2048000,
      "rowLimit": 10000
     },
     "inputWidgets": {},
     "nuid": "b25629db-cfa9-4fd9-93fb-a1dc0fe5a044",
     "showTitle": false,
     "tableResultSettingsMap": {},
     "title": ""
    }
   },
   "outputs": [
    {
     "output_type": "stream",
     "name": "stdout",
     "output_type": "stream",
     "text": [
      "Out[6]: '680\\tHL Road Frame - Black, 58\\tFR-R92B-58\\tBlack\\t1059.31\\t1431.50\\t58\\t1016.04\\t18\\t6\\t1998-06-01 00:00:00.000\\tNULL\\tNULL\\t0x47494638396150003100F70000000000800000008000808000000080800080008080808080C0C0C0FF000000FF00FFFF000000FFFF00FF00FFFFFFFFFF000000000000000000000000000000000000000000000000000000000000000000000000000000000000000000000000000000000000000000000000000000000000\\tno_image_available_small.gif\\t43DD68D6-14A4-461F-9069-55309D90EA7E\\t2004-03-11 10:01:36.827'"
     ]
    }
   ],
   "source": [
    "content.first()"
   ]
  },
  {
   "cell_type": "code",
   "execution_count": 0,
   "metadata": {
    "application/vnd.databricks.v1+cell": {
     "cellMetadata": {
      "byteLimit": 2048000,
      "rowLimit": 10000
     },
     "inputWidgets": {},
     "nuid": "7c6477b3-ae17-40c9-ad94-e226c1d96a67",
     "showTitle": false,
     "tableResultSettingsMap": {},
     "title": ""
    }
   },
   "outputs": [
    {
     "output_type": "stream",
     "name": "stdout",
     "output_type": "stream",
     "text": [
      "Out[7]: 17"
     ]
    }
   ],
   "source": [
    "content.map(lambda line: len(line.split(\"\\t\"))).distinct().collect()[0]"
   ]
  },
  {
   "cell_type": "markdown",
   "metadata": {
    "application/vnd.databricks.v1+cell": {
     "cellMetadata": {},
     "inputWidgets": {},
     "nuid": "a3097865-16c7-4069-bf6b-b61d2a71ced9",
     "showTitle": false,
     "tableResultSettingsMap": {},
     "title": ""
    }
   },
   "source": [
    "# Example of RDD using Scala"
   ]
  },
  {
   "cell_type": "code",
   "execution_count": 0,
   "metadata": {
    "application/vnd.databricks.v1+cell": {
     "cellMetadata": {
      "byteLimit": 2048000,
      "rowLimit": 10000
     },
     "inputWidgets": {},
     "nuid": "fd3e1c26-ea05-4ffb-b91d-6ef5936864db",
     "showTitle": false,
     "tableResultSettingsMap": {},
     "title": ""
    }
   },
   "outputs": [
    {
     "output_type": "stream",
     "name": "stdout",
     "output_type": "stream",
     "text": [
      "Out[8]: [['680',\n  'HL Road Frame - Black, 58',\n  'FR-R92B-58',\n  'Black',\n  '1059.31',\n  '1431.50',\n  '58',\n  '1016.04',\n  '18',\n  '6',\n  '1998-06-01 00:00:00.000',\n  'NULL',\n  'NULL',\n  '0x47494638396150003100F70000000000800000008000808000000080800080008080808080C0C0C0FF000000FF00FFFF000000FFFF00FF00FFFFFFFFFF000000000000000000000000000000000000000000000000000000000000000000000000000000000000000000000000000000000000000000000000000000000000',\n  'no_image_available_small.gif',\n  '43DD68D6-14A4-461F-9069-55309D90EA7E',\n  '2004-03-11 10:01:36.827']]"
     ]
    }
   ],
   "source": [
    "rdd1 = (content.filter(lambda line: line.split(\"\\t\"))\n",
    " .map(lambda line: (line.split(\"\\t\")))\n",
    ")\n",
    "rdd1.take(1)"
   ]
  },
  {
   "cell_type": "markdown",
   "metadata": {
    "application/vnd.databricks.v1+cell": {
     "cellMetadata": {},
     "inputWidgets": {},
     "nuid": "a105419c-a4d8-4fee-a173-8a25b774998c",
     "showTitle": false,
     "tableResultSettingsMap": {},
     "title": ""
    }
   },
   "source": [
    "# Converting RDD into Spark Dataframe"
   ]
  },
  {
   "cell_type": "code",
   "execution_count": 0,
   "metadata": {
    "application/vnd.databricks.v1+cell": {
     "cellMetadata": {
      "byteLimit": 2048000,
      "rowLimit": 10000
     },
     "inputWidgets": {},
     "nuid": "9a3f50ec-faaf-4aae-975c-5eeb4b1f66d6",
     "showTitle": false,
     "tableResultSettingsMap": {},
     "title": ""
    }
   },
   "outputs": [
    {
     "output_type": "stream",
     "name": "stdout",
     "output_type": "stream",
     "text": [
      "+---------+--------------------+-------------+-----+------------+---------+----+-------+-----------------+--------------+--------------------+--------------------+----------------+--------------------+----------------------+--------------------+--------------------+\n|ProductID|                Name|ProductNumber|Color|StandardCost|ListPrice|Size| Weight|ProductCategoryID|ProductModelID|       SellStartDate|         SellEndDate|DiscontinuedDate|      ThumbNailPhoto|ThumbnailPhotoFileName|             rowguid|        ModifiedDate|\n+---------+--------------------+-------------+-----+------------+---------+----+-------+-----------------+--------------+--------------------+--------------------+----------------+--------------------+----------------------+--------------------+--------------------+\n|      680|HL Road Frame - B...|   FR-R92B-58|Black|     1059.31|  1431.50|  58|1016.04|               18|             6|1998-06-01 00:00:...|                NULL|            NULL|0x474946383961500...|  no_image_availabl...|43DD68D6-14A4-461...|2004-03-11 10:01:...|\n|      706|HL Road Frame - R...|   FR-R92R-58|  Red|     1059.31|  1431.50|  58|1016.04|               18|             6|1998-06-01 00:00:...|                NULL|            NULL|0x474946383961500...|  no_image_availabl...|9540FF17-2712-4C9...|2004-03-11 10:01:...|\n|      707|Sport-100 Helmet,...|    HL-U509-R|  Red|     13.0863|    34.99|NULL|   NULL|               35|            33|2001-07-01 00:00:...|                NULL|            NULL|0x474946383961500...|  no_image_availabl...|2E1EF41A-C08A-4FF...|2004-03-11 10:01:...|\n|      708|Sport-100 Helmet,...|      HL-U509|Black|     13.0863|    34.99|NULL|   NULL|               35|            33|2001-07-01 00:00:...|                NULL|            NULL|0x474946383961500...|  no_image_availabl...|A25A44FB-C2DE-426...|2004-03-11 10:01:...|\n|      709|Mountain Bike Soc...|    SO-B909-M|White|      3.3963|     9.50|   M|   NULL|               27|            18|2001-07-01 00:00:...|2002-06-30 00:00:...|            NULL|0x474946383961500...|  no_image_availabl...|18F95F47-1540-4E0...|2004-03-11 10:01:...|\n|      710|Mountain Bike Soc...|    SO-B909-L|White|      3.3963|     9.50|   L|   NULL|               27|            18|2001-07-01 00:00:...|2002-06-30 00:00:...|            NULL|0x474946383961500...|  no_image_availabl...|161C035E-21B3-4E1...|2004-03-11 10:01:...|\n|      711|Sport-100 Helmet,...|    HL-U509-B| Blue|     13.0863|    34.99|NULL|   NULL|               35|            33|2001-07-01 00:00:...|                NULL|            NULL|0x474946383961500...|  no_image_availabl...|FD7C0858-4179-48C...|2004-03-11 10:01:...|\n|      712|        AWC Logo Cap|      CA-1098|Multi|      6.9223|     8.99|NULL|   NULL|               23|             2|2001-07-01 00:00:...|                NULL|            NULL|0x474946383961500...|  no_image_availabl...|B9EDE243-A6F4-462...|2004-03-11 10:01:...|\n|      713|Long-Sleeve Logo ...|    LJ-0192-S|Multi|     38.4923|    49.99|   S|   NULL|               25|            11|2001-07-01 00:00:...|                NULL|            NULL|0x474946383961500...|  awc_jersey_male_s...|FD449C82-A259-4FA...|2004-03-11 10:01:...|\n|      714|Long-Sleeve Logo ...|    LJ-0192-M|Multi|     38.4923|    49.99|   M|   NULL|               25|            11|2001-07-01 00:00:...|                NULL|            NULL|0x474946383961500...|  awc_jersey_male_s...|6A290063-A0CF-432...|2004-03-11 10:01:...|\n|      715|Long-Sleeve Logo ...|    LJ-0192-L|Multi|     38.4923|    49.99|   L|   NULL|               25|            11|2001-07-01 00:00:...|                NULL|            NULL|0x474946383961500...|  awc_jersey_male_s...|34CF5EF5-C077-4EA...|2004-03-11 10:01:...|\n|      716|Long-Sleeve Logo ...|    LJ-0192-X|Multi|     38.4923|    49.99|  XL|   NULL|               25|            11|2001-07-01 00:00:...|                NULL|            NULL|0x474946383961500...|  awc_jersey_male_s...|6EC47EC9-C041-4DD...|2004-03-11 10:01:...|\n|      717|HL Road Frame - R...|   FR-R92R-62|  Red|    868.6342|  1431.50|  62|1043.26|               18|             6|2001-07-01 00:00:...|                NULL|            NULL|0x474946383961500...|  no_image_availabl...|052E4F8B-0A2A-46B...|2004-03-11 10:01:...|\n|      718|HL Road Frame - R...|   FR-R92R-44|  Red|    868.6342|  1431.50|  44| 961.61|               18|             6|2001-07-01 00:00:...|                NULL|            NULL|0x474946383961500...|  no_image_availabl...|A88D3B54-2CAE-43F...|2004-03-11 10:01:...|\n|      719|HL Road Frame - R...|   FR-R92R-48|  Red|    868.6342|  1431.50|  48| 979.75|               18|             6|2001-07-01 00:00:...|                NULL|            NULL|0x474946383961500...|  no_image_availabl...|07BEFC9A-7634-402...|2004-03-11 10:01:...|\n|      720|HL Road Frame - R...|   FR-R92R-52|  Red|    868.6342|  1431.50|  52| 997.90|               18|             6|2001-07-01 00:00:...|                NULL|            NULL|0x474946383961500...|  no_image_availabl...|FCFEA68F-310E-4E6...|2004-03-11 10:01:...|\n|      721|HL Road Frame - R...|   FR-R92R-56|  Red|    868.6342|  1431.50|  56|1016.04|               18|             6|2001-07-01 00:00:...|                NULL|            NULL|0x474946383961500...|  no_image_availabl...|56C85873-4993-41B...|2004-03-11 10:01:...|\n|      722|LL Road Frame - B...|   FR-R38B-58|Black|    204.6251|   337.22|  58|1115.83|               18|             9|2001-07-01 00:00:...|                NULL|            NULL|0x474946383961500...|  no_image_availabl...|2140F256-F705-4D6...|2004-03-11 10:01:...|\n|      723|LL Road Frame - B...|   FR-R38B-60|Black|    204.6251|   337.22|  60|1124.90|               18|             9|2001-07-01 00:00:...|                NULL|            NULL|0x474946383961500...|  no_image_availabl...|AA95E2A5-E7C4-4B7...|2004-03-11 10:01:...|\n|      724|LL Road Frame - B...|   FR-R38B-62|Black|    204.6251|   337.22|  62|1133.98|               18|             9|2001-07-01 00:00:...|                NULL|            NULL|0x474946383961500...|  no_image_availabl...|5247BE33-50BF-452...|2004-03-11 10:01:...|\n+---------+--------------------+-------------+-----+------------+---------+----+-------+-----------------+--------------+--------------------+--------------------+----------------+--------------------+----------------------+--------------------+--------------------+\nonly showing top 20 rows\n\n"
     ]
    }
   ],
   "source": [
    "df = rdd1.toDF(header)\n",
    "df.show()"
   ]
  },
  {
   "cell_type": "markdown",
   "metadata": {
    "application/vnd.databricks.v1+cell": {
     "cellMetadata": {},
     "inputWidgets": {},
     "nuid": "fb282bbf-f4b2-4299-9c07-9b978bce0169",
     "showTitle": false,
     "tableResultSettingsMap": {},
     "title": ""
    }
   },
   "source": [
    "# Using Two Different Code/Syntax\n",
    "## Spark Dataframe syntax and SQL Table syntax"
   ]
  },
  {
   "cell_type": "markdown",
   "metadata": {
    "application/vnd.databricks.v1+cell": {
     "cellMetadata": {},
     "inputWidgets": {},
     "nuid": "634a7e65-f23f-4043-963f-feeaa28bfa85",
     "showTitle": false,
     "tableResultSettingsMap": {},
     "title": ""
    }
   },
   "source": [
    "### Spark Dataframe syntax"
   ]
  },
  {
   "cell_type": "code",
   "execution_count": 0,
   "metadata": {
    "application/vnd.databricks.v1+cell": {
     "cellMetadata": {
      "byteLimit": 2048000,
      "rowLimit": 10000
     },
     "inputWidgets": {},
     "nuid": "fae7aa88-69b3-42fe-b863-c890bb7975eb",
     "showTitle": false,
     "tableResultSettingsMap": {},
     "title": ""
    }
   },
   "outputs": [
    {
     "output_type": "stream",
     "name": "stdout",
     "output_type": "stream",
     "text": [
      "+-------------------------+-------+\n|Name                     |Weight |\n+-------------------------+-------+\n|HL Road Frame - Black, 58|1016.04|\n|HL Road Frame - Red, 58  |1016.04|\n|Sport-100 Helmet, Red    |null   |\n|Sport-100 Helmet, Black  |null   |\n|Mountain Bike Socks, M   |null   |\n+-------------------------+-------+\nonly showing top 5 rows\n\n"
     ]
    }
   ],
   "source": [
    "# selecting two columns Name and Weight from original dataframe and convert into their proper datatype. Default is string\n",
    "spark_df = df.select(df.Name, df.Weight.cast(\"float\"))\n",
    "spark_df.show(5, truncate=False)"
   ]
  },
  {
   "cell_type": "markdown",
   "metadata": {
    "application/vnd.databricks.v1+cell": {
     "cellMetadata": {},
     "inputWidgets": {},
     "nuid": "76e9f5d3-2ce4-42a6-8a97-151f62966559",
     "showTitle": false,
     "tableResultSettingsMap": {},
     "title": ""
    }
   },
   "source": [
    "### SQL Table syntax\n",
    "First convert the original Spark Dataframe df into SQL Table and then write SQL syntax"
   ]
  },
  {
   "cell_type": "code",
   "execution_count": 0,
   "metadata": {
    "application/vnd.databricks.v1+cell": {
     "cellMetadata": {
      "byteLimit": 2048000,
      "rowLimit": 10000
     },
     "inputWidgets": {},
     "nuid": "ba37d163-0abd-47ac-a2dd-609382697ca7",
     "showTitle": false,
     "tableResultSettingsMap": {},
     "title": ""
    }
   },
   "outputs": [
    {
     "output_type": "stream",
     "name": "stdout",
     "output_type": "stream",
     "text": [
      "+-------------------------+-------+\n|Name                     |Weight |\n+-------------------------+-------+\n|HL Road Frame - Black, 58|1016.04|\n|HL Road Frame - Red, 58  |1016.04|\n|Sport-100 Helmet, Red    |null   |\n|Sport-100 Helmet, Black  |null   |\n|Mountain Bike Socks, M   |null   |\n+-------------------------+-------+\n\n"
     ]
    }
   ],
   "source": [
    "# convert the original Spark Dataframe df into SQL Table\n",
    "df.createOrReplaceTempView(\"df_table\")\n",
    "# write SQL query syntax\n",
    "sqlContext.sql(\" SELECT Name, cast(Weight as float) FROM df_table limit 5\").show(truncate=False)"
   ]
  },
  {
   "cell_type": "markdown",
   "metadata": {
    "application/vnd.databricks.v1+cell": {
     "cellMetadata": {},
     "inputWidgets": {},
     "nuid": "69d4323b-c498-4abe-b321-1a62cd627ed8",
     "showTitle": false,
     "tableResultSettingsMap": {},
     "title": ""
    }
   },
   "source": [
    "## Write your solutions using Spark Dataframe syntax and Spark SQL syntax. Your output should match with the RDD output"
   ]
  },
  {
   "cell_type": "markdown",
   "metadata": {
    "application/vnd.databricks.v1+cell": {
     "cellMetadata": {},
     "inputWidgets": {},
     "nuid": "6019e613-c169-4946-923d-2d87ba1ce274",
     "showTitle": false,
     "tableResultSettingsMap": {},
     "title": ""
    }
   },
   "source": [
    "#### 1. Find the names and weight of the top 15 products by weight. Sort weight by descending order."
   ]
  },
  {
   "cell_type": "markdown",
   "metadata": {
    "application/vnd.databricks.v1+cell": {
     "cellMetadata": {},
     "inputWidgets": {},
     "nuid": "cf59b76e-c51a-4445-9d49-eb6dc0c6ad00",
     "showTitle": false,
     "tableResultSettingsMap": {},
     "title": ""
    }
   },
   "source": [
    "##### Using RDD"
   ]
  },
  {
   "cell_type": "code",
   "execution_count": 0,
   "metadata": {
    "application/vnd.databricks.v1+cell": {
     "cellMetadata": {
      "byteLimit": 2048000,
      "rowLimit": 10000
     },
     "inputWidgets": {},
     "nuid": "728d67e4-bc29-4991-a999-154e1450fbf6",
     "showTitle": false,
     "tableResultSettingsMap": {},
     "title": ""
    }
   },
   "outputs": [
    {
     "output_type": "stream",
     "name": "stdout",
     "output_type": "stream",
     "text": [
      "Out[9]: [('Touring-3000 Blue, 62', 13607.7),\n ('Touring-3000 Yellow, 62', 13607.7),\n ('Touring-3000 Blue, 58', 13562.34),\n ('Touring-3000 Yellow, 58', 13512.45),\n ('Touring-3000 Blue, 54', 13462.55),\n ('Touring-3000 Yellow, 54', 13344.62),\n ('Touring-3000 Yellow, 50', 13213.08),\n ('Touring-3000 Blue, 50', 13213.08),\n ('Touring-3000 Yellow, 44', 13049.78),\n ('Touring-3000 Blue, 44', 13049.78),\n ('Mountain-500 Silver, 52', 13008.96),\n ('Mountain-500 Black, 52', 13008.96),\n ('Mountain-500 Silver, 48', 12891.03),\n ('Mountain-500 Black, 48', 12891.03),\n ('Mountain-500 Silver, 44', 12759.49)]"
     ]
    }
   ],
   "source": [
    "(content.filter(lambda line: line.split(\"\\t\")[7] != \"NULL\")\n",
    " .map(lambda line: (line.split(\"\\t\")[1], float(line.split(\"\\t\")[7])))\n",
    "                     .takeOrdered(15, lambda x : -x[1])\n",
    "                    )"
   ]
  },
  {
   "cell_type": "markdown",
   "metadata": {
    "application/vnd.databricks.v1+cell": {
     "cellMetadata": {},
     "inputWidgets": {},
     "nuid": "9908f57f-848d-49c8-a3c9-5040d1e35a32",
     "showTitle": false,
     "tableResultSettingsMap": {},
     "title": ""
    }
   },
   "source": [
    "##### Using Spark DataFrame"
   ]
  },
  {
   "cell_type": "code",
   "execution_count": 0,
   "metadata": {
    "application/vnd.databricks.v1+cell": {
     "cellMetadata": {
      "byteLimit": 2048000,
      "rowLimit": 10000
     },
     "inputWidgets": {},
     "nuid": "16c097bd-6deb-4dd6-967c-98b4a32c89dd",
     "showTitle": false,
     "tableResultSettingsMap": {},
     "title": ""
    }
   },
   "outputs": [
    {
     "output_type": "stream",
     "name": "stdout",
     "output_type": "stream",
     "text": [
      "+-----------------------+--------+\n|Name                   |Weight  |\n+-----------------------+--------+\n|Touring-3000 Yellow, 62|13607.7 |\n|Touring-3000 Blue, 62  |13607.7 |\n|Touring-3000 Blue, 58  |13562.34|\n|Touring-3000 Yellow, 58|13512.45|\n|Touring-3000 Blue, 54  |13462.55|\n|Touring-3000 Yellow, 54|13344.62|\n|Touring-3000 Yellow, 50|13213.08|\n|Touring-3000 Blue, 50  |13213.08|\n|Touring-3000 Yellow, 44|13049.78|\n|Touring-3000 Blue, 44  |13049.78|\n|Mountain-500 Silver, 52|13008.96|\n|Mountain-500 Black, 52 |13008.96|\n|Mountain-500 Silver, 48|12891.03|\n|Mountain-500 Black, 48 |12891.03|\n|Mountain-500 Silver, 44|12759.49|\n+-----------------------+--------+\n\n"
     ]
    }
   ],
   "source": [
    "top_15 = df.filter(df.Weight.isNotNull()) \\\n",
    "           .select(\"Name\", df.Weight.cast(\"float\").alias(\"Weight\")) \\\n",
    "           .orderBy(\"Weight\", ascending=False) \\\n",
    "           .limit(15)\n",
    "\n",
    "top_15.show(15, truncate=False)\n"
   ]
  },
  {
   "cell_type": "markdown",
   "metadata": {
    "application/vnd.databricks.v1+cell": {
     "cellMetadata": {},
     "inputWidgets": {},
     "nuid": "d1aee5df-1ab5-4a8d-a36c-1ae78c3d1195",
     "showTitle": false,
     "tableResultSettingsMap": {},
     "title": ""
    }
   },
   "source": [
    "##### Using Spark SQL"
   ]
  },
  {
   "cell_type": "code",
   "execution_count": 0,
   "metadata": {
    "application/vnd.databricks.v1+cell": {
     "cellMetadata": {
      "byteLimit": 2048000,
      "rowLimit": 10000
     },
     "inputWidgets": {},
     "nuid": "dc945e57-6428-4d09-b227-b875758c36f9",
     "showTitle": false,
     "tableResultSettingsMap": {},
     "title": ""
    }
   },
   "outputs": [
    {
     "output_type": "stream",
     "name": "stdout",
     "output_type": "stream",
     "text": [
      "+-----------------------+--------+\n|Name                   |Weight  |\n+-----------------------+--------+\n|Touring-3000 Yellow, 62|13607.7 |\n|Touring-3000 Blue, 62  |13607.7 |\n|Touring-3000 Blue, 58  |13562.34|\n|Touring-3000 Yellow, 58|13512.45|\n|Touring-3000 Blue, 54  |13462.55|\n|Touring-3000 Yellow, 54|13344.62|\n|Touring-3000 Yellow, 50|13213.08|\n|Touring-3000 Blue, 50  |13213.08|\n|Touring-3000 Yellow, 44|13049.78|\n|Touring-3000 Blue, 44  |13049.78|\n|Mountain-500 Silver, 52|13008.96|\n|Mountain-500 Black, 52 |13008.96|\n|Mountain-500 Silver, 48|12891.03|\n|Mountain-500 Black, 48 |12891.03|\n|Mountain-500 Silver, 44|12759.49|\n+-----------------------+--------+\n\n"
     ]
    }
   ],
   "source": [
    "# Register the DataFrame as a temporary SQL view for query execution\n",
    "df.createOrReplaceTempView(\"products_view\")\n",
    "\n",
    "top_products = spark.sql(\"\"\"\n",
    "    SELECT Name, CAST(Weight AS FLOAT) AS Weight\n",
    "    FROM products_view\n",
    "    WHERE Weight IS NOT NULL\n",
    "    ORDER BY Weight DESC\n",
    "    LIMIT 15\n",
    "\"\"\")\n",
    "\n",
    "top_products.show(truncate=False)\n"
   ]
  },
  {
   "cell_type": "markdown",
   "metadata": {
    "application/vnd.databricks.v1+cell": {
     "cellMetadata": {},
     "inputWidgets": {},
     "nuid": "6a364981-2a82-4a66-940d-b62a3c2eabad",
     "showTitle": false,
     "tableResultSettingsMap": {},
     "title": ""
    }
   },
   "source": [
    "#### 2. Retrieve product details (name, color, size, product model ID) for products where the product model ID is 5"
   ]
  },
  {
   "cell_type": "markdown",
   "metadata": {
    "application/vnd.databricks.v1+cell": {
     "cellMetadata": {},
     "inputWidgets": {},
     "nuid": "30dffc8a-4473-4429-83ba-4ce42cb63432",
     "showTitle": false,
     "tableResultSettingsMap": {},
     "title": ""
    }
   },
   "source": [
    "##### Using RDD"
   ]
  },
  {
   "cell_type": "code",
   "execution_count": 0,
   "metadata": {
    "application/vnd.databricks.v1+cell": {
     "cellMetadata": {
      "byteLimit": 2048000,
      "rowLimit": 10000
     },
     "inputWidgets": {},
     "nuid": "b7f96168-273f-4786-8231-ee60b60aae89",
     "showTitle": false,
     "tableResultSettingsMap": {},
     "title": ""
    }
   },
   "outputs": [
    {
     "output_type": "stream",
     "name": "stdout",
     "output_type": "stream",
     "text": [
      "Out[16]: [('HL Mountain Frame - Silver, 42', 'Silver', '42', '5'),\n ('HL Mountain Frame - Silver, 44', 'Silver', '44', '5'),\n ('HL Mountain Frame - Silver, 48', 'Silver', '48', '5'),\n ('HL Mountain Frame - Silver, 46', 'Silver', '46', '5'),\n ('HL Mountain Frame - Black, 42', 'Black', '42', '5'),\n ('HL Mountain Frame - Black, 44', 'Black', '44', '5'),\n ('HL Mountain Frame - Black, 48', 'Black', '48', '5'),\n ('HL Mountain Frame - Black, 46', 'Black', '46', '5'),\n ('HL Mountain Frame - Black, 38', 'Black', '38', '5'),\n ('HL Mountain Frame - Silver, 38', 'Silver', '38', '5')]"
     ]
    }
   ],
   "source": [
    "(content.filter(lambda line:line.split(\"\\t\")[9]==\"5\")\n",
    " .map(lambda line: (line.split(\"\\t\")[1],line.split(\"\\t\")[3], line.split(\"\\t\")[6], line.split(\"\\t\")[9])).collect()\n",
    ")"
   ]
  },
  {
   "cell_type": "markdown",
   "metadata": {
    "application/vnd.databricks.v1+cell": {
     "cellMetadata": {},
     "inputWidgets": {},
     "nuid": "4d8dabcd-bf51-4d10-96e6-71df3695d272",
     "showTitle": false,
     "tableResultSettingsMap": {},
     "title": ""
    }
   },
   "source": [
    "##### Using Spark Dataframe"
   ]
  },
  {
   "cell_type": "code",
   "execution_count": 0,
   "metadata": {
    "application/vnd.databricks.v1+cell": {
     "cellMetadata": {
      "byteLimit": 2048000,
      "rowLimit": 10000
     },
     "inputWidgets": {},
     "nuid": "cdf6ee7e-f5b8-410f-b26f-eaeaff7d1c30",
     "showTitle": false,
     "tableResultSettingsMap": {},
     "title": ""
    }
   },
   "outputs": [
    {
     "output_type": "stream",
     "name": "stdout",
     "output_type": "stream",
     "text": [
      "+------------------------------+------+----+--------------+\n|Name                          |Color |Size|ProductModelID|\n+------------------------------+------+----+--------------+\n|HL Mountain Frame - Silver, 42|Silver|42  |5             |\n|HL Mountain Frame - Silver, 44|Silver|44  |5             |\n|HL Mountain Frame - Silver, 48|Silver|48  |5             |\n|HL Mountain Frame - Silver, 46|Silver|46  |5             |\n|HL Mountain Frame - Black, 42 |Black |42  |5             |\n|HL Mountain Frame - Black, 44 |Black |44  |5             |\n|HL Mountain Frame - Black, 48 |Black |48  |5             |\n|HL Mountain Frame - Black, 46 |Black |46  |5             |\n|HL Mountain Frame - Black, 38 |Black |38  |5             |\n|HL Mountain Frame - Silver, 38|Silver|38  |5             |\n+------------------------------+------+----+--------------+\n\n"
     ]
    }
   ],
   "source": [
    "# Select and filter rows where ProductModelID equals 5\n",
    "filtered_data = df.filter(df.ProductModelID == '5') \\\n",
    "    .select(\"Name\", \"Color\", \"Size\", \"ProductModelID\")\n",
    "\n",
    "filtered_data.show(truncate=False)"
   ]
  },
  {
   "cell_type": "markdown",
   "metadata": {
    "application/vnd.databricks.v1+cell": {
     "cellMetadata": {},
     "inputWidgets": {},
     "nuid": "c961a430-7293-4f8d-b3f9-c4070c1e235e",
     "showTitle": false,
     "tableResultSettingsMap": {},
     "title": ""
    }
   },
   "source": [
    "##### Using Spark SQL"
   ]
  },
  {
   "cell_type": "code",
   "execution_count": 0,
   "metadata": {
    "application/vnd.databricks.v1+cell": {
     "cellMetadata": {
      "byteLimit": 2048000,
      "rowLimit": 10000
     },
     "inputWidgets": {},
     "nuid": "4332a9af-30c6-4395-b25e-c6147aad93dd",
     "showTitle": false,
     "tableResultSettingsMap": {},
     "title": ""
    }
   },
   "outputs": [
    {
     "output_type": "stream",
     "name": "stdout",
     "output_type": "stream",
     "text": [
      "+------------------------------+------+----+--------------+\n|Name                          |Color |Size|ProductModelID|\n+------------------------------+------+----+--------------+\n|HL Mountain Frame - Silver, 42|Silver|42  |5             |\n|HL Mountain Frame - Silver, 44|Silver|44  |5             |\n|HL Mountain Frame - Silver, 48|Silver|48  |5             |\n|HL Mountain Frame - Silver, 46|Silver|46  |5             |\n|HL Mountain Frame - Black, 42 |Black |42  |5             |\n|HL Mountain Frame - Black, 44 |Black |44  |5             |\n|HL Mountain Frame - Black, 48 |Black |48  |5             |\n|HL Mountain Frame - Black, 46 |Black |46  |5             |\n|HL Mountain Frame - Black, 38 |Black |38  |5             |\n|HL Mountain Frame - Silver, 38|Silver|38  |5             |\n+------------------------------+------+----+--------------+\n\n"
     ]
    }
   ],
   "source": [
    "# Register the DataFrame as a temporary SQL view for querying\n",
    "df.createOrReplaceTempView(\"product_view\")\n",
    "\n",
    "query_result = sqlContext.sql(\"\"\"\n",
    "    SELECT Name, Color, Size, ProductModelID\n",
    "    FROM product_view\n",
    "    WHERE ProductModelID = '5'\n",
    "\"\"\")\n",
    "\n",
    "query_result.show(truncate=False)\n"
   ]
  },
  {
   "cell_type": "markdown",
   "metadata": {
    "application/vnd.databricks.v1+cell": {
     "cellMetadata": {},
     "inputWidgets": {},
     "nuid": "e3c9fc97-d853-479d-bbe2-134342535de9",
     "showTitle": false,
     "tableResultSettingsMap": {},
     "title": ""
    }
   },
   "source": [
    "#### 3. Retrieve the name and product number of the products that have a color of 'black', 'red', or 'white' and a size of 'S' or 'M'"
   ]
  },
  {
   "cell_type": "markdown",
   "metadata": {
    "application/vnd.databricks.v1+cell": {
     "cellMetadata": {},
     "inputWidgets": {},
     "nuid": "31174ab6-690a-42de-becb-5452c1e902bf",
     "showTitle": false,
     "tableResultSettingsMap": {},
     "title": ""
    }
   },
   "source": [
    "##### Using RDD"
   ]
  },
  {
   "cell_type": "code",
   "execution_count": 0,
   "metadata": {
    "application/vnd.databricks.v1+cell": {
     "cellMetadata": {
      "byteLimit": 2048000,
      "rowLimit": 10000
     },
     "inputWidgets": {},
     "nuid": "1b99ae62-4b55-4e7f-b27e-80f79909aeca",
     "showTitle": false,
     "tableResultSettingsMap": {},
     "title": ""
    }
   },
   "outputs": [
    {
     "output_type": "stream",
     "name": "stdout",
     "output_type": "stream",
     "text": [
      "Out[14]: [('Mountain Bike Socks, M', 'SO-B909-M', 'White', 'M'),\n (\"Men's Sports Shorts, S\", 'SH-M897-S', 'Black', 'S'),\n (\"Men's Sports Shorts, M\", 'SH-M897-M', 'Black', 'M'),\n (\"Women's Tights, S\", 'TG-W091-S', 'Black', 'S'),\n (\"Women's Tights, M\", 'TG-W091-M', 'Black', 'M'),\n ('Half-Finger Gloves, S', 'GL-H102-S', 'Black', 'S'),\n ('Half-Finger Gloves, M', 'GL-H102-M', 'Black', 'M'),\n ('Full-Finger Gloves, S', 'GL-F110-S', 'Black', 'S'),\n ('Full-Finger Gloves, M', 'GL-F110-M', 'Black', 'M'),\n (\"Women's Mountain Shorts, S\", 'SH-W890-S', 'Black', 'S'),\n (\"Women's Mountain Shorts, M\", 'SH-W890-M', 'Black', 'M'),\n ('Racing Socks, M', 'SO-R809-M', 'White', 'M')]"
     ]
    }
   ],
   "source": [
    "colors = [\"White\",\"Black\",\"Red\"]\n",
    "sizes = [\"S\",\"M\"]\n",
    "\n",
    "(content.filter(lambda line: line.split(\"\\t\")[6] in sizes)\n",
    ".filter(lambda line: line.split(\"\\t\")[3] in colors)\n",
    ".map(lambda line: (line.split(\"\\t\")[1],line.split(\"\\t\")[2], line.split(\"\\t\")[3],line.split(\"\\t\")[6]))\n",
    " .collect()\n",
    ")"
   ]
  },
  {
   "cell_type": "markdown",
   "metadata": {
    "application/vnd.databricks.v1+cell": {
     "cellMetadata": {},
     "inputWidgets": {},
     "nuid": "895cbde1-b7ef-49fd-9c0f-696369f27128",
     "showTitle": false,
     "tableResultSettingsMap": {},
     "title": ""
    }
   },
   "source": [
    "##### Using Spark Dataframe"
   ]
  },
  {
   "cell_type": "code",
   "execution_count": 0,
   "metadata": {
    "application/vnd.databricks.v1+cell": {
     "cellMetadata": {
      "byteLimit": 2048000,
      "rowLimit": 10000
     },
     "inputWidgets": {},
     "nuid": "17a831f7-0cb4-43f2-8bbb-77b1e035ade8",
     "showTitle": false,
     "tableResultSettingsMap": {},
     "title": ""
    }
   },
   "outputs": [
    {
     "output_type": "stream",
     "name": "stdout",
     "output_type": "stream",
     "text": [
      "+--------------------------+-------------+\n|Name                      |ProductNumber|\n+--------------------------+-------------+\n|Mountain Bike Socks, M    |SO-B909-M    |\n|Men's Sports Shorts, S    |SH-M897-S    |\n|Men's Sports Shorts, M    |SH-M897-M    |\n|Women's Tights, S         |TG-W091-S    |\n|Women's Tights, M         |TG-W091-M    |\n|Half-Finger Gloves, S     |GL-H102-S    |\n|Half-Finger Gloves, M     |GL-H102-M    |\n|Full-Finger Gloves, S     |GL-F110-S    |\n|Full-Finger Gloves, M     |GL-F110-M    |\n|Women's Mountain Shorts, S|SH-W890-S    |\n|Women's Mountain Shorts, M|SH-W890-M    |\n|Racing Socks, M           |SO-R809-M    |\n+--------------------------+-------------+\n\n"
     ]
    }
   ],
   "source": [
    "# Filter rows based on color and size criteria\n",
    "filtered_products = df.filter(df.Color.isin(\"Black\", \"Red\", \"White\")) \\\n",
    "                      .filter(df.Size.isin(\"S\", \"M\")) \\\n",
    "                      .select(\"Name\", \"ProductNumber\")\n",
    "\n",
    "filtered_products.show(truncate=False)"
   ]
  },
  {
   "cell_type": "markdown",
   "metadata": {
    "application/vnd.databricks.v1+cell": {
     "cellMetadata": {},
     "inputWidgets": {},
     "nuid": "15ba2bdf-70ae-4dcf-b00a-fdd80f352e96",
     "showTitle": false,
     "tableResultSettingsMap": {},
     "title": ""
    }
   },
   "source": [
    "##### Using Spark SQL"
   ]
  },
  {
   "cell_type": "code",
   "execution_count": 0,
   "metadata": {
    "application/vnd.databricks.v1+cell": {
     "cellMetadata": {
      "byteLimit": 2048000,
      "rowLimit": 10000
     },
     "inputWidgets": {},
     "nuid": "da3463c2-f9b1-480a-ab44-c69af4275b91",
     "showTitle": false,
     "tableResultSettingsMap": {},
     "title": ""
    }
   },
   "outputs": [
    {
     "output_type": "stream",
     "name": "stdout",
     "output_type": "stream",
     "text": [
      "+--------------------------+-------------+\n|Name                      |ProductNumber|\n+--------------------------+-------------+\n|Mountain Bike Socks, M    |SO-B909-M    |\n|Men's Sports Shorts, S    |SH-M897-S    |\n|Men's Sports Shorts, M    |SH-M897-M    |\n|Women's Tights, S         |TG-W091-S    |\n|Women's Tights, M         |TG-W091-M    |\n|Half-Finger Gloves, S     |GL-H102-S    |\n|Half-Finger Gloves, M     |GL-H102-M    |\n|Full-Finger Gloves, S     |GL-F110-S    |\n|Full-Finger Gloves, M     |GL-F110-M    |\n|Women's Mountain Shorts, S|SH-W890-S    |\n|Women's Mountain Shorts, M|SH-W890-M    |\n|Racing Socks, M           |SO-R809-M    |\n+--------------------------+-------------+\n\n"
     ]
    }
   ],
   "source": [
    "# Register DataFrame as a temporary SQL view\n",
    "df.createOrReplaceTempView(\"filtered_products\")\n",
    "\n",
    "query_output = spark.sql(\"\"\"\n",
    "    SELECT Name, ProductNumber\n",
    "    FROM filtered_products\n",
    "    WHERE Color IN ('Black', 'Red', 'White') AND Size IN ('S', 'M')\n",
    "\"\"\")\n",
    "\n",
    "query_output.show(truncate=False)\n"
   ]
  },
  {
   "cell_type": "markdown",
   "metadata": {
    "application/vnd.databricks.v1+cell": {
     "cellMetadata": {},
     "inputWidgets": {},
     "nuid": "3280d1e9-90e3-4a1b-9ceb-6283c93680a2",
     "showTitle": false,
     "tableResultSettingsMap": {},
     "title": ""
    }
   },
   "source": [
    "#### 4. Retrieve the product name, product number, color and list price of products whose product number begins with 'BK-'. Retrieve only 15 records and Sort the price in descending order"
   ]
  },
  {
   "cell_type": "markdown",
   "metadata": {
    "application/vnd.databricks.v1+cell": {
     "cellMetadata": {},
     "inputWidgets": {},
     "nuid": "9f7884c4-f177-4bc9-ab8a-8512fdbc8c4f",
     "showTitle": false,
     "tableResultSettingsMap": {},
     "title": ""
    }
   },
   "source": [
    "##### Using RDD"
   ]
  },
  {
   "cell_type": "code",
   "execution_count": 0,
   "metadata": {
    "application/vnd.databricks.v1+cell": {
     "cellMetadata": {
      "byteLimit": 2048000,
      "rowLimit": 10000
     },
     "inputWidgets": {},
     "nuid": "2f57b2b8-877f-4cd1-9a22-d0f6e450a175",
     "showTitle": false,
     "tableResultSettingsMap": {},
     "title": ""
    }
   },
   "outputs": [
    {
     "output_type": "stream",
     "name": "stdout",
     "output_type": "stream",
     "text": [
      "Out[15]: [('Road-150 Red, 62', 'BK-R93R-62', 'Red', 3578.27),\n ('Road-150 Red, 44', 'BK-R93R-44', 'Red', 3578.27),\n ('Road-150 Red, 48', 'BK-R93R-48', 'Red', 3578.27),\n ('Road-150 Red, 52', 'BK-R93R-52', 'Red', 3578.27),\n ('Road-150 Red, 56', 'BK-R93R-56', 'Red', 3578.27),\n ('Mountain-100 Silver, 38', 'BK-M82S-38', 'Silver', 3399.99),\n ('Mountain-100 Silver, 42', 'BK-M82S-42', 'Silver', 3399.99),\n ('Mountain-100 Silver, 44', 'BK-M82S-44', 'Silver', 3399.99),\n ('Mountain-100 Silver, 48', 'BK-M82S-48', 'Silver', 3399.99),\n ('Mountain-100 Black, 38', 'BK-M82B-38', 'Black', 3374.99),\n ('Mountain-100 Black, 42', 'BK-M82B-42', 'Black', 3374.99),\n ('Mountain-100 Black, 44', 'BK-M82B-44', 'Black', 3374.99),\n ('Mountain-100 Black, 48', 'BK-M82B-48', 'Black', 3374.99),\n ('Road-250 Red, 44', 'BK-R89R-44', 'Red', 2443.35),\n ('Road-250 Red, 48', 'BK-R89R-48', 'Red', 2443.35)]"
     ]
    }
   ],
   "source": [
    "(content.filter(lambda line: \"BK\" in line.split(\"\\t\")[2])\n",
    " .map(lambda line: (line.split(\"\\t\")[1], line.split(\"\\t\")[2], line.split(\"\\t\")[3], float(line.split(\"\\t\")[5])))\n",
    ".takeOrdered(15, lambda x: -x[3]))"
   ]
  },
  {
   "cell_type": "markdown",
   "metadata": {
    "application/vnd.databricks.v1+cell": {
     "cellMetadata": {},
     "inputWidgets": {},
     "nuid": "7215148c-38cc-4abf-a1a7-2cdaf49bd379",
     "showTitle": false,
     "tableResultSettingsMap": {},
     "title": ""
    }
   },
   "source": [
    "##### Using Spark Dataframe"
   ]
  },
  {
   "cell_type": "code",
   "execution_count": 0,
   "metadata": {
    "application/vnd.databricks.v1+cell": {
     "cellMetadata": {
      "byteLimit": 2048000,
      "rowLimit": 10000
     },
     "inputWidgets": {},
     "nuid": "0c33ad13-fd2c-4b55-85cc-091d3a453573",
     "showTitle": false,
     "tableResultSettingsMap": {},
     "title": ""
    }
   },
   "outputs": [
    {
     "output_type": "stream",
     "name": "stdout",
     "output_type": "stream",
     "text": [
      "+-----------------------+-------------+------+-------+\n|Name                   |ProductNumber|Color |Price  |\n+-----------------------+-------------+------+-------+\n|Road-150 Red, 62       |BK-R93R-62   |Red   |3578.27|\n|Road-150 Red, 44       |BK-R93R-44   |Red   |3578.27|\n|Road-150 Red, 48       |BK-R93R-48   |Red   |3578.27|\n|Road-150 Red, 52       |BK-R93R-52   |Red   |3578.27|\n|Road-150 Red, 56       |BK-R93R-56   |Red   |3578.27|\n|Mountain-100 Silver, 44|BK-M82S-44   |Silver|3399.99|\n|Mountain-100 Silver, 48|BK-M82S-48   |Silver|3399.99|\n|Mountain-100 Silver, 38|BK-M82S-38   |Silver|3399.99|\n|Mountain-100 Silver, 42|BK-M82S-42   |Silver|3399.99|\n|Mountain-100 Black, 38 |BK-M82B-38   |Black |3374.99|\n|Mountain-100 Black, 42 |BK-M82B-42   |Black |3374.99|\n|Mountain-100 Black, 44 |BK-M82B-44   |Black |3374.99|\n|Mountain-100 Black, 48 |BK-M82B-48   |Black |3374.99|\n|Road-250 Red, 44       |BK-R89R-44   |Red   |2443.35|\n|Road-250 Red, 48       |BK-R89R-48   |Red   |2443.35|\n+-----------------------+-------------+------+-------+\n\n"
     ]
    }
   ],
   "source": [
    "# Filter and retrieve the top 15 products starting with 'BK'\n",
    "bk_top_products = df.filter(df.ProductNumber.startswith(\"BK\")) \\\n",
    "    .select(\"Name\", \"ProductNumber\", \"Color\", df.ListPrice.cast(\"float\").alias(\"Price\")) \\\n",
    "    .orderBy(\"Price\", ascending=False) \\\n",
    "    .limit(15)\n",
    "\n",
    "bk_top_products.show(15, truncate=False)"
   ]
  },
  {
   "cell_type": "markdown",
   "metadata": {
    "application/vnd.databricks.v1+cell": {
     "cellMetadata": {},
     "inputWidgets": {},
     "nuid": "6193a402-fe07-4770-92fa-51e26816d3b7",
     "showTitle": false,
     "tableResultSettingsMap": {},
     "title": ""
    }
   },
   "source": [
    "##### Using Spark SQL"
   ]
  },
  {
   "cell_type": "code",
   "execution_count": 0,
   "metadata": {
    "application/vnd.databricks.v1+cell": {
     "cellMetadata": {
      "byteLimit": 2048000,
      "rowLimit": 10000
     },
     "inputWidgets": {},
     "nuid": "820deb27-888e-45b3-8ec2-e61a3dc1a14b",
     "showTitle": false,
     "tableResultSettingsMap": {},
     "title": ""
    }
   },
   "outputs": [
    {
     "output_type": "stream",
     "name": "stdout",
     "output_type": "stream",
     "text": [
      "+-----------------------+-------------+------+-------+\n|Name                   |ProductNumber|Color |Price  |\n+-----------------------+-------------+------+-------+\n|Road-150 Red, 62       |BK-R93R-62   |Red   |3578.27|\n|Road-150 Red, 44       |BK-R93R-44   |Red   |3578.27|\n|Road-150 Red, 48       |BK-R93R-48   |Red   |3578.27|\n|Road-150 Red, 52       |BK-R93R-52   |Red   |3578.27|\n|Road-150 Red, 56       |BK-R93R-56   |Red   |3578.27|\n|Mountain-100 Silver, 44|BK-M82S-44   |Silver|3399.99|\n|Mountain-100 Silver, 48|BK-M82S-48   |Silver|3399.99|\n|Mountain-100 Silver, 38|BK-M82S-38   |Silver|3399.99|\n|Mountain-100 Silver, 42|BK-M82S-42   |Silver|3399.99|\n|Mountain-100 Black, 38 |BK-M82B-38   |Black |3374.99|\n|Mountain-100 Black, 42 |BK-M82B-42   |Black |3374.99|\n|Mountain-100 Black, 44 |BK-M82B-44   |Black |3374.99|\n|Mountain-100 Black, 48 |BK-M82B-48   |Black |3374.99|\n|Road-250 Red, 44       |BK-R89R-44   |Red   |2443.35|\n|Road-250 Red, 48       |BK-R89R-48   |Red   |2443.35|\n+-----------------------+-------------+------+-------+\n\n"
     ]
    }
   ],
   "source": [
    "# Register DataFrame as a temporary SQL view\n",
    "df.createOrReplaceTempView(\"products_view\")\n",
    "\n",
    "top_bk_products = spark.sql(\"\"\"\n",
    "    SELECT Name, ProductNumber, Color, CAST(ListPrice AS FLOAT) AS Price\n",
    "    FROM products_view\n",
    "    WHERE ProductNumber LIKE 'BK%'\n",
    "    ORDER BY Price DESC\n",
    "    LIMIT 15\n",
    "\"\"\")\n",
    "\n",
    "top_bk_products.show(truncate=False)"
   ]
  },
  {
   "cell_type": "markdown",
   "metadata": {
    "application/vnd.databricks.v1+cell": {
     "cellMetadata": {},
     "inputWidgets": {},
     "nuid": "cec197c9-eb1f-4b42-976d-45c12a0c2cc3",
     "showTitle": false,
     "tableResultSettingsMap": {},
     "title": ""
    }
   },
   "source": [
    "#### 5. Visualize Average List Price per Color and Average List Price per Size. Discuss/Explain your results."
   ]
  },
  {
   "cell_type": "code",
   "execution_count": 0,
   "metadata": {
    "application/vnd.databricks.v1+cell": {
     "cellMetadata": {
      "byteLimit": 2048000,
      "rowLimit": 10000
     },
     "inputWidgets": {},
     "nuid": "7214bde0-02aa-4fc6-b124-06f5a22bc5e5",
     "showTitle": false,
     "tableResultSettingsMap": {},
     "title": ""
    }
   },
   "outputs": [
    {
     "output_type": "display_data",
     "data": {
      "application/vnd.databricks.v1+bamboolib_hint": "{\"pd.DataFrames\": [], \"version\": \"0.0.1\"}",
      "text/plain": []
     },
     "metadata": {},
     "output_type": "display_data"
    }
   ],
   "source": [
    "import pandas as pd\n",
    "import matplotlib\n",
    "import matplotlib.pyplot as plt\n",
    "from pyspark.sql import functions as F\n",
    "%matplotlib inline"
   ]
  },
  {
   "cell_type": "code",
   "execution_count": 0,
   "metadata": {
    "application/vnd.databricks.v1+cell": {
     "cellMetadata": {
      "byteLimit": 2048000,
      "rowLimit": 10000
     },
     "inputWidgets": {},
     "nuid": "ad7e9cf5-f424-4b09-af34-df53c021f43a",
     "showTitle": false,
     "tableResultSettingsMap": {},
     "title": ""
    }
   },
   "outputs": [
    {
     "output_type": "display_data",
     "data": {
      "image/png": "[encoded data removed]"
     },
     "metadata": {
      "application/vnd.databricks.v1+output": {
       "addedWidgets": {},
       "arguments": {},
       "data": "data:image/png;base64,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\n",
       "datasetInfos": [],
       "metadata": {},
       "removedWidgets": [],
       "type": "image"
      }
     },
     "output_type": "display_data"
    }
   ],
   "source": [
    "# Compute the average ListPrice for each color\n",
    "color_avg_price = df.groupBy(\"Color\").agg(F.avg(F.col(\"ListPrice\").cast(\"float\")).alias(\"AveragePrice\"))\n",
    "\n",
    "color_avg_price_df = color_avg_price.toPandas()\n",
    "\n",
    "# Sort by average price in descending order\n",
    "color_avg_price_df = color_avg_price_df.sort_values(\"AveragePrice\", ascending=False)\n",
    "\n",
    "plt.figure(figsize=(12, 7))\n",
    "plt.bar(color_avg_price_df[\"Color\"], color_avg_price_df[\"AveragePrice\"], color='skyblue')\n",
    "plt.title(\"Average List Price by Color\", fontsize=18)\n",
    "plt.xlabel(\"Color\", fontsize=14)\n",
    "plt.ylabel(\"Average Price\", fontsize=14)\n",
    "plt.xticks(rotation=45, ha='right')\n",
    "plt.grid(axis=\"y\", linestyle=\"--\", alpha=0.7)\n",
    "plt.show()\n"
   ]
  },
  {
   "cell_type": "markdown",
   "metadata": {
    "application/vnd.databricks.v1+cell": {
     "cellMetadata": {},
     "inputWidgets": {},
     "nuid": "81faef95-c6ef-42d1-85ca-26f5c84c52a7",
     "showTitle": false,
     "tableResultSettingsMap": {},
     "title": ""
    }
   },
   "source": [
    "Observation:\n",
    "- **Red** and **Silver** colors are associated with the highest average prices, indicating they may be linked to premium or high-demand products.\n",
    "- **Yellow**, **Blue**, and **Black** colors have moderate prices, likely reflecting their widespread use across various product types.\n",
    "- **Gray** occupies a middle ground in terms of pricing.\n",
    "- **Silver/Black**, **Multi**, and **White** colors are associated with lower average prices, possibly indicating more affordable or mass-market items.\n",
    "- NULL values may represent missing data and should be examined as they could affect the analysis."
   ]
  },
  {
   "cell_type": "code",
   "execution_count": 0,
   "metadata": {
    "application/vnd.databricks.v1+cell": {
     "cellMetadata": {
      "byteLimit": 2048000,
      "rowLimit": 10000
     },
     "inputWidgets": {},
     "nuid": "471c813b-3e77-4d8a-aea1-9d6be3ce0a89",
     "showTitle": false,
     "tableResultSettingsMap": {},
     "title": ""
    }
   },
   "outputs": [
    {
     "output_type": "display_data",
     "data": {
      "image/png": "[encoded data removed]"
     },
     "metadata": {
      "application/vnd.databricks.v1+output": {
       "addedWidgets": {},
       "arguments": {},
       "data": "data:image/png;base64,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\n",
       "datasetInfos": [],
       "metadata": {},
       "removedWidgets": [],
       "type": "image"
      }
     },
     "output_type": "display_data"
    }
   ],
   "source": [
    "# Compute the average ListPrice for each size\n",
    "size_avg_price = df.groupBy(\"Size\").agg(F.avg(F.col(\"ListPrice\").cast(\"float\")).alias(\"AveragePrice\"))\n",
    "\n",
    "size_avg_price_df = size_avg_price.toPandas()\n",
    "\n",
    "# Sort by average price in descending order\n",
    "size_avg_price_df = size_avg_price_df.sort_values(\"AveragePrice\", ascending=False)\n",
    "\n",
    "plt.figure(figsize=(12, 7))\n",
    "plt.bar(size_avg_price_df[\"Size\"], size_avg_price_df[\"AveragePrice\"], color='lightgreen')\n",
    "plt.title(\"Average List Price by Size\", fontsize=18)\n",
    "plt.xlabel(\"Size\", fontsize=14)\n",
    "plt.ylabel(\"Average Price\", fontsize=14)\n",
    "plt.xticks(rotation=45, ha='right')\n",
    "plt.grid(axis=\"y\", linestyle=\"--\", alpha=0.7)\n",
    "plt.show()"
   ]
  },
  {
   "cell_type": "markdown",
   "metadata": {
    "application/vnd.databricks.v1+cell": {
     "cellMetadata": {},
     "inputWidgets": {},
     "nuid": "dc93d3d4-6a97-46f4-85cf-4543929c177a",
     "showTitle": false,
     "tableResultSettingsMap": {},
     "title": ""
    }
   },
   "source": [
    "Some of the insights are:\n",
    "- The **Average List Price per Size** chart indicates that larger sizes, such as **56**, **58**, and **60**, generally have higher average prices, likely due to higher demand or increased production costs.\n",
    "- Smaller sizes like **S**, **M**, **L**, and **XL** are priced lower on average, reflecting their more widespread availability and potentially lower manufacturing expenses.\n",
    "- **NULL** values suggest missing data, which may influence the accuracy of the analysis and its conclusions.\n",
    "- This pricing pattern offers valuable insights for businesses, guiding pricing strategies and inventory decisions. Larger sizes, often associated with higher demand or limited availability, could justify premium pricing, while smaller sizes can be priced more competitively to appeal to a broader customer base."
   ]
  },
  {
   "cell_type": "markdown",
   "metadata": {
    "application/vnd.databricks.v1+cell": {
     "cellMetadata": {},
     "inputWidgets": {},
     "nuid": "3c3731a0-f63d-46fe-87de-416efca7b8ae",
     "showTitle": false,
     "tableResultSettingsMap": {},
     "title": ""
    }
   },
   "source": [
    "#### 6. Visualize Total Count per Size. Discuss/Explain your results."
   ]
  },
  {
   "cell_type": "code",
   "execution_count": 0,
   "metadata": {
    "application/vnd.databricks.v1+cell": {
     "cellMetadata": {
      "byteLimit": 2048000,
      "rowLimit": 10000
     },
     "inputWidgets": {},
     "nuid": "7d9e8ea0-b441-41c5-be1e-7b93801de3f5",
     "showTitle": false,
     "tableResultSettingsMap": {},
     "title": ""
    }
   },
   "outputs": [
    {
     "output_type": "display_data",
     "data": {
      "image/png": "[encoded data removed]"
     },
     "metadata": {
      "application/vnd.databricks.v1+output": {
       "addedWidgets": {},
       "arguments": {},
       "data": "data:image/png;base64,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\n",
       "datasetInfos": [],
       "metadata": {},
       "removedWidgets": [],
       "type": "image"
      }
     },
     "output_type": "display_data"
    }
   ],
   "source": [
    "# Group by Size and calculate the total count of each size\n",
    "count_by_size = df.groupBy(\"Size\").agg(F.count(\"*\").alias(\"SizeCount\"))\n",
    "\n",
    "count_by_size_df = count_by_size.toPandas()\n",
    "count_by_size_df = count_by_size_df.sort_values(\"SizeCount\", ascending=False)\n",
    "\n",
    "plt.figure(figsize=(12, 7))\n",
    "plt.bar(count_by_size_df[\"Size\"], count_by_size_df[\"SizeCount\"], color='teal')\n",
    "plt.title(\"Total Count by Size\", fontsize=18)\n",
    "plt.xlabel(\"Size\", fontsize=14)\n",
    "plt.ylabel(\"Total Count\", fontsize=14)\n",
    "plt.xticks(rotation=45, ha='right')\n",
    "plt.grid(axis=\"y\", linestyle=\"--\", alpha=0.7)\n",
    "plt.show()"
   ]
  },
  {
   "cell_type": "markdown",
   "metadata": {
    "application/vnd.databricks.v1+cell": {
     "cellMetadata": {},
     "inputWidgets": {},
     "nuid": "30bc6e85-2ea1-47ce-86b9-aa225b5e79c0",
     "showTitle": false,
     "tableResultSettingsMap": {},
     "title": ""
    }
   },
   "source": [
    "Observation:\n",
    "- The **Total Count per Size** chart reveals a clear distribution pattern in the dataset.\n",
    "- A significant portion of the data consists of **missing values (\"NULL\")**, which dominate the chart, indicating potential issues with incomplete records.\n",
    "- After the NULL category, sizes **44** and **48** stand out with counts between 20 and 30, suggesting moderate demand or stock for these sizes.\n",
    "- Other sizes, such as **52**, **46**, **50**, and smaller sizes like **5**, have lower frequencies, implying they are less common in the dataset.\n",
    "- The distribution declines sharply after the prominent sizes, with fewer items in the remaining sizes, including **M**, **L**, and **70**, which show minimal counts.\n",
    "- This pattern highlights the dominance of a few key size categories and the scarcity of others.\n",
    "- It suggests that efforts should focus on cleaning the data to address the missing values."
   ]
  },
  {
   "cell_type": "markdown",
   "metadata": {
    "application/vnd.databricks.v1+cell": {
     "cellMetadata": {},
     "inputWidgets": {},
     "nuid": "65b7c02f-106d-4dc6-a681-2708a2b3de5a",
     "showTitle": false,
     "tableResultSettingsMap": {},
     "title": ""
    }
   },
   "source": [
    "# Using Machine Learning Library (For Practice)"
   ]
  },
  {
   "cell_type": "code",
   "execution_count": 0,
   "metadata": {
    "application/vnd.databricks.v1+cell": {
     "cellMetadata": {
      "byteLimit": 2048000,
      "rowLimit": 10000
     },
     "inputWidgets": {},
     "nuid": "d7350414-127d-4e37-8aa0-cdc43f8f0bd4",
     "showTitle": false,
     "tableResultSettingsMap": {},
     "title": ""
    }
   },
   "outputs": [
    {
     "output_type": "stream",
     "name": "stdout",
     "output_type": "stream",
     "text": [
      "+-------+----+---------+\n|Weight |Size|ListPrice|\n+-------+----+---------+\n|1016.04|58.0|1431.5   |\n|1016.04|58.0|1431.5   |\n|null   |null|34.99    |\n|null   |null|34.99    |\n|null   |null|9.5      |\n+-------+----+---------+\nonly showing top 5 rows\n\n"
     ]
    }
   ],
   "source": [
    "dfall = df.select(df.Weight.cast(\"float\"), df.Size.cast(\"float\"), df.ListPrice.cast(\"float\"))\n",
    "dfall.show(5, truncate=False)"
   ]
  },
  {
   "cell_type": "code",
   "execution_count": 0,
   "metadata": {
    "application/vnd.databricks.v1+cell": {
     "cellMetadata": {
      "byteLimit": 2048000,
      "rowLimit": 10000
     },
     "inputWidgets": {},
     "nuid": "c11425a9-aacd-43d0-882c-eb0a0002c6cf",
     "showTitle": false,
     "tableResultSettingsMap": {},
     "title": ""
    }
   },
   "outputs": [],
   "source": [
    "dfall = dfall.na.drop(\"any\")"
   ]
  },
  {
   "cell_type": "code",
   "execution_count": 0,
   "metadata": {
    "application/vnd.databricks.v1+cell": {
     "cellMetadata": {
      "byteLimit": 2048000,
      "rowLimit": 10000
     },
     "inputWidgets": {},
     "nuid": "653da381-78ec-470d-8994-825d252cea19",
     "showTitle": false,
     "tableResultSettingsMap": {},
     "title": ""
    }
   },
   "outputs": [],
   "source": [
    "feature_columns = dfall.columns[:-1] # here we omit the final column for prediction\n",
    "from pyspark.ml.feature import VectorAssembler\n",
    "assembler = VectorAssembler(inputCols=feature_columns,outputCol=\"features\")"
   ]
  },
  {
   "cell_type": "code",
   "execution_count": 0,
   "metadata": {
    "application/vnd.databricks.v1+cell": {
     "cellMetadata": {
      "byteLimit": 2048000,
      "rowLimit": 10000
     },
     "inputWidgets": {},
     "nuid": "e2c5c2ab-8358-49e4-bd21-dc252e5848a5",
     "showTitle": false,
     "tableResultSettingsMap": {},
     "title": ""
    }
   },
   "outputs": [],
   "source": [
    "data_2 = assembler.transform(dfall)"
   ]
  },
  {
   "cell_type": "code",
   "execution_count": 0,
   "metadata": {
    "application/vnd.databricks.v1+cell": {
     "cellMetadata": {
      "byteLimit": 2048000,
      "rowLimit": 10000
     },
     "inputWidgets": {},
     "nuid": "05b1b005-27ba-4f4d-bfac-473869a3aee2",
     "showTitle": false,
     "tableResultSettingsMap": {},
     "title": ""
    }
   },
   "outputs": [
    {
     "output_type": "stream",
     "name": "stdout",
     "output_type": "stream",
     "text": [
      "+-------+----+---------+--------------------+\n| Weight|Size|ListPrice|            features|\n+-------+----+---------+--------------------+\n|1016.04|58.0|   1431.5|[1016.03997802734...|\n|1016.04|58.0|   1431.5|[1016.03997802734...|\n|1043.26|62.0|   1431.5|[1043.26000976562...|\n| 961.61|44.0|   1431.5|[961.609985351562...|\n| 979.75|48.0|   1431.5|       [979.75,48.0]|\n|  997.9|52.0|   1431.5|[997.900024414062...|\n|1016.04|56.0|   1431.5|[1016.03997802734...|\n|1115.83|58.0|   337.22|[1115.82995605468...|\n| 1124.9|60.0|   337.22|[1124.90002441406...|\n|1133.98|62.0|   337.22|[1133.97998046875...|\n|1052.33|44.0|   337.22|[1052.32995605468...|\n|1070.47|48.0|   337.22|[1070.46997070312...|\n|1088.62|52.0|   337.22|[1088.61999511718...|\n|1115.83|58.0|   337.22|[1115.82995605468...|\n| 1124.9|60.0|   337.22|[1124.90002441406...|\n|1133.98|62.0|   337.22|[1133.97998046875...|\n|1006.97|44.0|   594.83|[1006.96997070312...|\n|1025.11|48.0|   594.83|[1025.10998535156...|\n|1043.26|52.0|   594.83|[1043.26000976562...|\n|1070.47|58.0|   594.83|[1070.46997070312...|\n+-------+----+---------+--------------------+\nonly showing top 20 rows\n\n"
     ]
    }
   ],
   "source": [
    "data_2.show()"
   ]
  },
  {
   "cell_type": "code",
   "execution_count": 0,
   "metadata": {
    "application/vnd.databricks.v1+cell": {
     "cellMetadata": {
      "byteLimit": 2048000,
      "rowLimit": 10000
     },
     "inputWidgets": {},
     "nuid": "ceb6abc9-573b-4ae2-8e03-21a79639805a",
     "showTitle": false,
     "tableResultSettingsMap": {},
     "title": ""
    }
   },
   "outputs": [],
   "source": [
    "from pyspark.ml.regression import LinearRegression"
   ]
  },
  {
   "cell_type": "code",
   "execution_count": 0,
   "metadata": {
    "application/vnd.databricks.v1+cell": {
     "cellMetadata": {
      "byteLimit": 2048000,
      "rowLimit": 10000
     },
     "inputWidgets": {},
     "nuid": "950d1b20-4331-4510-b9cd-db2819cb3474",
     "showTitle": false,
     "tableResultSettingsMap": {},
     "title": ""
    }
   },
   "outputs": [],
   "source": [
    "algo = LinearRegression(featuresCol=\"features\", labelCol=\"ListPrice\")"
   ]
  },
  {
   "cell_type": "code",
   "execution_count": 0,
   "metadata": {
    "application/vnd.databricks.v1+cell": {
     "cellMetadata": {
      "byteLimit": 2048000,
      "rowLimit": 10000
     },
     "inputWidgets": {},
     "nuid": "bb9182a8-78da-4250-8303-26a222676e1d",
     "showTitle": false,
     "tableResultSettingsMap": {},
     "title": ""
    }
   },
   "outputs": [],
   "source": [
    "model = algo.fit(data_2)"
   ]
  },
  {
   "cell_type": "code",
   "execution_count": 0,
   "metadata": {
    "application/vnd.databricks.v1+cell": {
     "cellMetadata": {
      "byteLimit": 2048000,
      "rowLimit": 10000
     },
     "inputWidgets": {},
     "nuid": "373a7a87-ed11-4d0f-b98d-98ce2889907c",
     "showTitle": false,
     "tableResultSettingsMap": {},
     "title": ""
    }
   },
   "outputs": [],
   "source": [
    "evaluation_summary = model.evaluate(data_2)"
   ]
  },
  {
   "cell_type": "code",
   "execution_count": 0,
   "metadata": {
    "application/vnd.databricks.v1+cell": {
     "cellMetadata": {
      "byteLimit": 2048000,
      "rowLimit": 10000
     },
     "inputWidgets": {},
     "nuid": "1548b3b3-f7f4-48f6-ad73-2b070f7595da",
     "showTitle": false,
     "tableResultSettingsMap": {},
     "title": ""
    }
   },
   "outputs": [
    {
     "output_type": "stream",
     "name": "stdout",
     "output_type": "stream",
     "text": [
      "Out[31]: 83.01687079582804"
     ]
    }
   ],
   "source": [
    "evaluation_summary.rootMeanSquaredError"
   ]
  },
  {
   "cell_type": "code",
   "execution_count": 0,
   "metadata": {
    "application/vnd.databricks.v1+cell": {
     "cellMetadata": {
      "byteLimit": 2048000,
      "rowLimit": 10000
     },
     "inputWidgets": {},
     "nuid": "5bb20dc4-259c-4de1-bb3c-ea477a692d17",
     "showTitle": false,
     "tableResultSettingsMap": {},
     "title": ""
    }
   },
   "outputs": [
    {
     "output_type": "stream",
     "name": "stdout",
     "output_type": "stream",
     "text": [
      "Out[32]: 0.9916704878125818"
     ]
    }
   ],
   "source": [
    "evaluation_summary.r2"
   ]
  }
 ],
 "metadata": {
  "application/vnd.databricks.v1+notebook": {
   "dashboards": [],
   "environmentMetadata": null,
   "language": "python",
   "notebookMetadata": {
    "pythonIndentUnit": 2
   },
   "notebookName": "HW14-mk07202-Spark",
   "widgets": {}
  },
  "kernelspec": {
   "display_name": "Python 2",
   "language": "python",
   "name": "python2"
  },
  "language_info": {
   "codemirror_mode": {
    "name": "ipython",
    "version": 2
   },
   "file_extension": ".py",
   "mimetype": "text/x-python",
   "name": "python",
   "nbconvert_exporter": "python",
   "pygments_lexer": "ipython2",
   "version": "2.7.12"
  }
 },
 "nbformat": 4,
 "nbformat_minor": 0
}
