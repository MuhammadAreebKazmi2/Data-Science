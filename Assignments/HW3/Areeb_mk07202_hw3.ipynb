{
 "cells": [
  {
   "cell_type": "markdown",
   "id": "2e145c17-c2cc-4b14-bdbc-d0a5dbf96367",
   "metadata": {},
   "source": [
    "## CS/CE 457/464 - Homework Assignment 3: Statistical Inference\n",
    "# Name: Muhammad Areeb Kazmi\n",
    "# Email: mk07202@st.habib.edu.pk"
   ]
  },
  {
   "cell_type": "markdown",
   "id": "d01c794b-46fe-4607-9eef-6c0f1a77f434",
   "metadata": {},
   "source": [
    "Importing the relevant libraries"
   ]
  },
  {
   "cell_type": "code",
   "execution_count": 9,
   "id": "d167aa26-b5b0-4a2e-80a4-ba4d7af10806",
   "metadata": {},
   "outputs": [],
   "source": [
    "import pandas as pd\n",
    "import numpy as np\n",
    "import seaborn as sns\n",
    "import matplotlib.pyplot as plt\n",
    "from scipy import stats"
   ]
  },
  {
   "cell_type": "code",
   "execution_count": 15,
   "id": "ab17579e-4bf9-4846-8827-0b030edbab48",
   "metadata": {},
   "outputs": [],
   "source": [
    "df = pd.read_csv('student-scores.csv')"
   ]
  },
  {
   "cell_type": "code",
   "execution_count": 17,
   "id": "b1ca879e-189a-43a7-875a-cd743b273573",
   "metadata": {},
   "outputs": [
    {
     "data": {
      "text/html": [
       "<div>\n",
       "<style scoped>\n",
       "    .dataframe tbody tr th:only-of-type {\n",
       "        vertical-align: middle;\n",
       "    }\n",
       "\n",
       "    .dataframe tbody tr th {\n",
       "        vertical-align: top;\n",
       "    }\n",
       "\n",
       "    .dataframe thead th {\n",
       "        text-align: right;\n",
       "    }\n",
       "</style>\n",
       "<table border=\"1\" class=\"dataframe\">\n",
       "  <thead>\n",
       "    <tr style=\"text-align: right;\">\n",
       "      <th></th>\n",
       "      <th>id</th>\n",
       "      <th>first_name</th>\n",
       "      <th>last_name</th>\n",
       "      <th>email</th>\n",
       "      <th>gender</th>\n",
       "      <th>part_time_job</th>\n",
       "      <th>absence_days</th>\n",
       "      <th>extracurricular_activities</th>\n",
       "      <th>weekly_self_study_hours</th>\n",
       "      <th>career_aspiration</th>\n",
       "      <th>math_score</th>\n",
       "      <th>history_score</th>\n",
       "      <th>physics_score</th>\n",
       "      <th>chemistry_score</th>\n",
       "      <th>biology_score</th>\n",
       "      <th>english_score</th>\n",
       "      <th>geography_score</th>\n",
       "    </tr>\n",
       "  </thead>\n",
       "  <tbody>\n",
       "    <tr>\n",
       "      <th>0</th>\n",
       "      <td>1</td>\n",
       "      <td>Paul</td>\n",
       "      <td>Casey</td>\n",
       "      <td>paul.casey.1@gslingacademy.com</td>\n",
       "      <td>male</td>\n",
       "      <td>False</td>\n",
       "      <td>3</td>\n",
       "      <td>False</td>\n",
       "      <td>27</td>\n",
       "      <td>Lawyer</td>\n",
       "      <td>73</td>\n",
       "      <td>81</td>\n",
       "      <td>93</td>\n",
       "      <td>97</td>\n",
       "      <td>63</td>\n",
       "      <td>80</td>\n",
       "      <td>87</td>\n",
       "    </tr>\n",
       "    <tr>\n",
       "      <th>1</th>\n",
       "      <td>2</td>\n",
       "      <td>Danielle</td>\n",
       "      <td>Sandoval</td>\n",
       "      <td>danielle.sandoval.2@gslingacademy.com</td>\n",
       "      <td>female</td>\n",
       "      <td>False</td>\n",
       "      <td>2</td>\n",
       "      <td>False</td>\n",
       "      <td>47</td>\n",
       "      <td>Doctor</td>\n",
       "      <td>90</td>\n",
       "      <td>86</td>\n",
       "      <td>96</td>\n",
       "      <td>100</td>\n",
       "      <td>90</td>\n",
       "      <td>88</td>\n",
       "      <td>90</td>\n",
       "    </tr>\n",
       "    <tr>\n",
       "      <th>2</th>\n",
       "      <td>3</td>\n",
       "      <td>Tina</td>\n",
       "      <td>Andrews</td>\n",
       "      <td>tina.andrews.3@gslingacademy.com</td>\n",
       "      <td>female</td>\n",
       "      <td>False</td>\n",
       "      <td>9</td>\n",
       "      <td>True</td>\n",
       "      <td>13</td>\n",
       "      <td>Government Officer</td>\n",
       "      <td>81</td>\n",
       "      <td>97</td>\n",
       "      <td>95</td>\n",
       "      <td>96</td>\n",
       "      <td>65</td>\n",
       "      <td>77</td>\n",
       "      <td>94</td>\n",
       "    </tr>\n",
       "    <tr>\n",
       "      <th>3</th>\n",
       "      <td>4</td>\n",
       "      <td>Tara</td>\n",
       "      <td>Clark</td>\n",
       "      <td>tara.clark.4@gslingacademy.com</td>\n",
       "      <td>female</td>\n",
       "      <td>False</td>\n",
       "      <td>5</td>\n",
       "      <td>False</td>\n",
       "      <td>3</td>\n",
       "      <td>Artist</td>\n",
       "      <td>71</td>\n",
       "      <td>74</td>\n",
       "      <td>88</td>\n",
       "      <td>80</td>\n",
       "      <td>89</td>\n",
       "      <td>63</td>\n",
       "      <td>86</td>\n",
       "    </tr>\n",
       "    <tr>\n",
       "      <th>4</th>\n",
       "      <td>5</td>\n",
       "      <td>Anthony</td>\n",
       "      <td>Campos</td>\n",
       "      <td>anthony.campos.5@gslingacademy.com</td>\n",
       "      <td>male</td>\n",
       "      <td>False</td>\n",
       "      <td>5</td>\n",
       "      <td>False</td>\n",
       "      <td>10</td>\n",
       "      <td>Unknown</td>\n",
       "      <td>84</td>\n",
       "      <td>77</td>\n",
       "      <td>65</td>\n",
       "      <td>65</td>\n",
       "      <td>80</td>\n",
       "      <td>74</td>\n",
       "      <td>76</td>\n",
       "    </tr>\n",
       "  </tbody>\n",
       "</table>\n",
       "</div>"
      ],
      "text/plain": [
       "   id first_name last_name                                  email  gender  \\\n",
       "0   1       Paul     Casey         paul.casey.1@gslingacademy.com    male   \n",
       "1   2   Danielle  Sandoval  danielle.sandoval.2@gslingacademy.com  female   \n",
       "2   3       Tina   Andrews       tina.andrews.3@gslingacademy.com  female   \n",
       "3   4       Tara     Clark         tara.clark.4@gslingacademy.com  female   \n",
       "4   5    Anthony    Campos     anthony.campos.5@gslingacademy.com    male   \n",
       "\n",
       "   part_time_job  absence_days  extracurricular_activities  \\\n",
       "0          False             3                       False   \n",
       "1          False             2                       False   \n",
       "2          False             9                        True   \n",
       "3          False             5                       False   \n",
       "4          False             5                       False   \n",
       "\n",
       "   weekly_self_study_hours   career_aspiration  math_score  history_score  \\\n",
       "0                       27              Lawyer          73             81   \n",
       "1                       47              Doctor          90             86   \n",
       "2                       13  Government Officer          81             97   \n",
       "3                        3              Artist          71             74   \n",
       "4                       10             Unknown          84             77   \n",
       "\n",
       "   physics_score  chemistry_score  biology_score  english_score  \\\n",
       "0             93               97             63             80   \n",
       "1             96              100             90             88   \n",
       "2             95               96             65             77   \n",
       "3             88               80             89             63   \n",
       "4             65               65             80             74   \n",
       "\n",
       "   geography_score  \n",
       "0               87  \n",
       "1               90  \n",
       "2               94  \n",
       "3               86  \n",
       "4               76  "
      ]
     },
     "execution_count": 17,
     "metadata": {},
     "output_type": "execute_result"
    }
   ],
   "source": [
    "df.head()"
   ]
  },
  {
   "cell_type": "markdown",
   "id": "a36f776b-6091-47ef-8db4-f5d70ef1f229",
   "metadata": {},
   "source": [
    "## Hypostheses Testing Q1\n",
    "\n",
    "H0: The average math_score of male and female students is same (equal or similar)\n",
    "\n",
    "Ha: The average math_score of male students is greater than that of females.. "
   ]
  },
  {
   "cell_type": "code",
   "execution_count": 61,
   "id": "0b980bf9-51bb-46ff-8baf-71b7db291b0d",
   "metadata": {},
   "outputs": [],
   "source": [
    "male = df[(df['gender']=='male')]['math_score']\n",
    "female = df[(df['gender']=='female')]['math_score']"
   ]
  },
  {
   "cell_type": "code",
   "execution_count": 38,
   "id": "400b706c-cec0-46ba-a9f8-c952f21bd026",
   "metadata": {},
   "outputs": [
    {
     "data": {
      "text/plain": [
       "0       73\n",
       "4       84\n",
       "6       99\n",
       "7       95\n",
       "8       94\n",
       "        ..\n",
       "1992    79\n",
       "1993    92\n",
       "1994    76\n",
       "1995    83\n",
       "1996    89\n",
       "Name: math_score, Length: 998, dtype: int64"
      ]
     },
     "execution_count": 38,
     "metadata": {},
     "output_type": "execute_result"
    }
   ],
   "source": [
    "male"
   ]
  },
  {
   "cell_type": "code",
   "execution_count": 63,
   "id": "051d9aae-5438-4965-9a0d-3417a693810a",
   "metadata": {},
   "outputs": [
    {
     "data": {
      "text/plain": [
       "1       90\n",
       "2       81\n",
       "3       71\n",
       "5       93\n",
       "9       98\n",
       "        ..\n",
       "1987    97\n",
       "1991    88\n",
       "1997    97\n",
       "1998    51\n",
       "1999    82\n",
       "Name: math_score, Length: 1002, dtype: int64"
      ]
     },
     "execution_count": 63,
     "metadata": {},
     "output_type": "execute_result"
    }
   ],
   "source": [
    "female"
   ]
  },
  {
   "cell_type": "code",
   "execution_count": 67,
   "id": "52990359-a75a-4681-95e8-078d18ff1756",
   "metadata": {},
   "outputs": [
    {
     "data": {
      "text/plain": [
       "TtestResult(statistic=2.2371559026936256, pvalue=0.012693020299630226, df=1998.0)"
      ]
     },
     "execution_count": 67,
     "metadata": {},
     "output_type": "execute_result"
    }
   ],
   "source": [
    "stats.ttest_ind(male, female, alternative='greater')"
   ]
  },
  {
   "cell_type": "markdown",
   "id": "f3eba6e2-9eca-4d6f-a8c2-245d39cb586a",
   "metadata": {},
   "source": [
    "## Conclusion\n",
    "Since P-Value < 0.05 => We can reject Null Hypothesis H0\n",
    "so Ha is true/valid, i.e. the average math_score of males students is greater that math_score of females"
   ]
  },
  {
   "cell_type": "markdown",
   "id": "6a96349a-a403-462f-b494-963b163b10ab",
   "metadata": {},
   "source": [
    "## Hypothesis Testing Q2\n",
    "\n",
    "H0: The math_score of Non Doctors and Doctors is the same (equal or similar)\n",
    "\n",
    "Ha: The math_score of Non Doctors is greater than that of Doctors"
   ]
  },
  {
   "cell_type": "code",
   "execution_count": 74,
   "id": "075cc31a-78f5-459a-911d-ddc15b65a866",
   "metadata": {},
   "outputs": [
    {
     "data": {
      "text/plain": [
       "TtestResult(statistic=-7.389083205876682, pvalue=0.999999999999892, df=1998.0)"
      ]
     },
     "execution_count": 74,
     "metadata": {},
     "output_type": "execute_result"
    }
   ],
   "source": [
    "non_doctors = df[(df['career_aspiration']!='Doctor')]['math_score']\n",
    "doctors = df[(df['career_aspiration']=='Doctor')]['math_score']\n",
    "stats.ttest_ind(non_doctors, doctors, alternative='greater')"
   ]
  },
  {
   "cell_type": "markdown",
   "id": "7a47443a-e0e8-4e03-8683-02ad75558120",
   "metadata": {},
   "source": [
    "## Conclusion\n",
    "Since P-Value > 0.05 => We cannot reject Null Hypothesis H0\n",
    "so H0 is true/valid, i.e. the average math_score of Non_Doctors and Doctors is the same. "
   ]
  },
  {
   "cell_type": "markdown",
   "id": "418fe449-b0a0-41bd-82c0-2b5f7c6c4d61",
   "metadata": {},
   "source": [
    "## Hypothesis Testing Q3\n",
    "\n",
    "H0: The weekly_self_study_hours of males and females is the same (equal or similar)\n",
    "\n",
    "Ha: The week_self_study_hours of males is greater than females. "
   ]
  },
  {
   "cell_type": "code",
   "execution_count": 84,
   "id": "7d42ce0c-7546-46f6-b5d5-43b0d356d5b7",
   "metadata": {},
   "outputs": [
    {
     "data": {
      "text/plain": [
       "TtestResult(statistic=3.4567831650474443, pvalue=0.00027905018418441824, df=1998.0)"
      ]
     },
     "execution_count": 84,
     "metadata": {},
     "output_type": "execute_result"
    }
   ],
   "source": [
    "h_male = df[(df['gender']=='male')]['weekly_self_study_hours']\n",
    "h_female = df[(df['gender']=='female')]['weekly_self_study_hours']\n",
    "\n",
    "stats.ttest_ind(h_male, h_female, alternative='greater')"
   ]
  },
  {
   "cell_type": "markdown",
   "id": "23d4fa31-37a3-4c90-9a16-0976901809d0",
   "metadata": {},
   "source": [
    "## Conclusion\n",
    "Since P-Value < 0.05 => We can reject Null Hypothesis H0\n",
    "so Ha is true/valid, i.e. the weekly_self_study_hours of males students is greater that math_score of females"
   ]
  },
  {
   "cell_type": "markdown",
   "id": "a59bde46-d1c3-4fc1-ba77-8ac2d4af3959",
   "metadata": {},
   "source": [
    "## Hypothesis Testing Q4\n",
    "\n",
    "H0: The math_score of no part_time_job males and that part_time_job males is the same (equal or similar)\n",
    "\n",
    "Ha: The math_score of no part_time_job male students is greater than that of part_time_job male students. "
   ]
  },
  {
   "cell_type": "code",
   "execution_count": 103,
   "id": "14f1efdd-34ae-45d7-aad8-c7b4c8411cfb",
   "metadata": {},
   "outputs": [
    {
     "data": {
      "text/plain": [
       "TtestResult(statistic=5.8026672393780085, pvalue=4.3820239750124745e-09, df=996.0)"
      ]
     },
     "execution_count": 103,
     "metadata": {},
     "output_type": "execute_result"
    }
   ],
   "source": [
    "npt_male = df[(df['gender']=='male')  & (df['part_time_job'] == False)]['math_score']\n",
    "pt_male = df[(df['gender']=='male') & (df['part_time_job'] == True)]['math_score']\n",
    "\n",
    "stats.ttest_ind(npt_male, pt_male, alternative='greater')"
   ]
  },
  {
   "cell_type": "markdown",
   "id": "3dde15b2-f144-49e3-a9ec-0a70c4b2bd2a",
   "metadata": {},
   "source": [
    "## Conclusion\n",
    "Since P-Value < 0.05 => We can reject Null Hypothesis H0\n",
    "\n",
    "so Ha is true/valid, i.e. the math_score of no part_time male students greater than that of part_time_job male students"
   ]
  },
  {
   "cell_type": "markdown",
   "id": "57f35607-c718-4ee8-b7a7-f3bb676b1c75",
   "metadata": {},
   "source": [
    "## Hypothesis Testing Q5\n",
    "\n",
    "H0: The average of history_score and geography_score is the same or similar\n",
    "\n",
    "Ha: The average of history_score is less than geography_score"
   ]
  },
  {
   "cell_type": "code",
   "execution_count": 172,
   "id": "7d6c6832-6318-4e97-b80e-fb5f55bd76ba",
   "metadata": {},
   "outputs": [
    {
     "data": {
      "text/plain": [
       "TtestResult(statistic=-1.4412586066465385, pvalue=0.07479497633658547, df=3998.0)"
      ]
     },
     "execution_count": 172,
     "metadata": {},
     "output_type": "execute_result"
    }
   ],
   "source": [
    "history = df['history_score']\n",
    "geo = df['geography_score']\n",
    "\n",
    "stats.ttest_ind(history, geo, alternative='less')"
   ]
  },
  {
   "cell_type": "markdown",
   "id": "a4a97464-9291-4e80-844e-d9cc4ce273ea",
   "metadata": {},
   "source": [
    "## Conclusion\n",
    "Since P-Value > 0.05 => We cannot reject Null Hypothesis H0\n",
    "\n",
    "so H0 is true/valid, i.e. the average of history_score and geography_score is similar or equal."
   ]
  },
  {
   "cell_type": "markdown",
   "id": "1d536190-0c46-4cdd-9bee-52204671abe6",
   "metadata": {},
   "source": [
    "## Hypothesis Testing Q6\n",
    "\n",
    "H0: The average of math_score and biology_score is the same or similar\n",
    "\n",
    "Ha: The average of math_score is greater than biology_score"
   ]
  },
  {
   "cell_type": "code",
   "execution_count": 133,
   "id": "130b7fc1-b3f3-45d1-869e-fc8e84dcbb43",
   "metadata": {},
   "outputs": [
    {
     "data": {
      "text/plain": [
       "TtestResult(statistic=9.082620143235266, pvalue=8.146293509285797e-20, df=3998.0)"
      ]
     },
     "execution_count": 133,
     "metadata": {},
     "output_type": "execute_result"
    }
   ],
   "source": [
    "math = df['math_score']\n",
    "bio = df['biology_score']\n",
    "\n",
    "stats.ttest_ind(math, bio, alternative='greater')"
   ]
  },
  {
   "cell_type": "markdown",
   "id": "fcd2973b-6aac-4892-a9b2-2570689705e4",
   "metadata": {},
   "source": [
    "## Conclusion\n",
    "Since P-Value < 0.05 => We can reject Null Hypothesis H0\n",
    "\n",
    "so Ha is true/valid, i.e. the average score of math is greater than that of biology"
   ]
  },
  {
   "cell_type": "markdown",
   "id": "136f0978-ed1c-451e-9df0-4bf8db8a3781",
   "metadata": {},
   "source": [
    "## Hypothesis Testing Q7\n",
    "\n",
    "H0: The weekly_self_study_hours of extracurricular_activities is same or similar as no extra_curricular activities\n",
    "\n",
    "Ha: The weekly_self_study_hours of extracurricular_activities is less than no extra_curricular activities\n"
   ]
  },
  {
   "cell_type": "code",
   "execution_count": 142,
   "id": "d0ab54f4-e37c-4ca1-899e-49ed95b604e0",
   "metadata": {},
   "outputs": [
    {
     "data": {
      "text/plain": [
       "TtestResult(statistic=-2.3506159912870577, pvalue=0.009419553161020007, df=1998.0)"
      ]
     },
     "execution_count": 142,
     "metadata": {},
     "output_type": "execute_result"
    }
   ],
   "source": [
    "eca = df[(df['extracurricular_activities']== True)]['weekly_self_study_hours']\n",
    "n_eca = df[(df['extracurricular_activities']== False)]['weekly_self_study_hours']\n",
    "\n",
    "stats.ttest_ind(eca, n_eca, alternative='less')"
   ]
  },
  {
   "cell_type": "markdown",
   "id": "e903fe34-74bb-4488-bd18-7864e03b06f5",
   "metadata": {},
   "source": [
    "## Conclusion\n",
    "Since P-Value < 0.05 => We can reject Null Hypothesis H0\n",
    "\n",
    "so Ha is true/valid, i.e. The weekly_self_study_hours of extracurricular_activities is less than no extra_curricular activities"
   ]
  },
  {
   "cell_type": "markdown",
   "id": "1cf378c0-6da2-44b8-b49a-86a1e145cd65",
   "metadata": {},
   "source": [
    "## Hypothesis Testing Q8\n",
    "\n",
    "H0: The absence_days of females and males is equal or similar, i.e. the same.\n",
    "\n",
    "Ha: The absence_days of females are less than males."
   ]
  },
  {
   "cell_type": "code",
   "execution_count": 174,
   "id": "3aaf4753-8599-402c-80a9-02a072a45bfd",
   "metadata": {},
   "outputs": [
    {
     "data": {
      "text/plain": [
       "TtestResult(statistic=1.3128102331149203, pvalue=0.9053011661354035, df=1998.0)"
      ]
     },
     "execution_count": 174,
     "metadata": {},
     "output_type": "execute_result"
    }
   ],
   "source": [
    "abs_male = df[(df['gender']=='male')]['absence_days']\n",
    "abs_female = df[(df['gender']=='female')]['absence_days']\n",
    "\n",
    "stats.ttest_ind(abs_female, abs_male, alternative='less')"
   ]
  },
  {
   "cell_type": "markdown",
   "id": "6b0c5a1d-e9e6-4bf8-8cff-aeb127c54df9",
   "metadata": {},
   "source": [
    "## Conclusion\n",
    "Since P-Value > 0.05 => We cannot reject Null Hypothesis H0\n",
    "\n",
    "so H0 is true/valid, i.e. the absence_days for females and males is the same. "
   ]
  },
  {
   "cell_type": "markdown",
   "id": "c0f723ba-bc3f-475a-958e-79dae751876c",
   "metadata": {},
   "source": [
    "## Hypothesis Testing Q9\n",
    "\n",
    "H0: There is no association between gender and career_aspiration\n",
    "\n",
    "Ha: There exists an association between gender and career_aspiration"
   ]
  },
  {
   "cell_type": "code",
   "execution_count": 177,
   "id": "5924c63d-2ce0-4a2f-b584-ab3303270b6f",
   "metadata": {},
   "outputs": [
    {
     "data": {
      "text/plain": [
       "Chi2ContingencyResult(statistic=155.39466648000175, pvalue=2.1417733823613718e-24, dof=17, expected_freq=array([[  63.126,   33.567,   84.669,  154.809,   34.068,   28.056,\n",
       "          59.619,   31.563,   30.561,   69.138,   41.583,   19.539,\n",
       "         157.815,   36.573,   29.559,  111.723,   16.032, 1002.   ],\n",
       "       [  62.874,   33.433,   84.331,  154.191,   33.932,   27.944,\n",
       "          59.381,   31.437,   30.439,   68.862,   41.417,   19.461,\n",
       "         157.185,   36.427,   29.441,  111.277,   15.968,  998.   ]]))"
      ]
     },
     "execution_count": 177,
     "metadata": {},
     "output_type": "execute_result"
    }
   ],
   "source": [
    "chisqt = pd.crosstab(df['gender'],df['career_aspiration'], margins=True)\n",
    "value = np.array([chisqt.iloc[0][0:].values, chisqt.iloc[1][0:].values])\n",
    "stats.chi2_contingency(value)\n"
   ]
  },
  {
   "cell_type": "markdown",
   "id": "5eaf9f5d-237a-46a7-8aa6-54475b2d19d4",
   "metadata": {},
   "source": [
    "## Conclusion\n",
    "\n",
    "Since the p-value is less than 0.05, we can reject the Null Hypothesis and so Ha will be valid that there is indeed an association between gender and career_aspiration and are not independent of each other and have a significant relationship."
   ]
  },
  {
   "cell_type": "markdown",
   "id": "fb7098f6-20fe-47d6-b385-8dea7aadf7ec",
   "metadata": {},
   "source": [
    "## Hypothesis Testing Q10\n",
    "\n",
    "H0: There is no association between gender and part_time_joba\n",
    "\n",
    "Ha: There exists an association between gender and part_time_jobs"
   ]
  },
  {
   "cell_type": "code",
   "execution_count": 164,
   "id": "749e3f77-aa5c-4a80-a291-9f0f483d6201",
   "metadata": {},
   "outputs": [
    {
     "data": {
      "text/plain": [
       "Chi2ContingencyResult(statistic=1.1337105392319442, pvalue=0.5673066629967145, dof=2, expected_freq=array([[ 843.684,  158.316, 1002.   ],\n",
       "       [ 840.316,  157.684,  998.   ]]))"
      ]
     },
     "execution_count": 164,
     "metadata": {},
     "output_type": "execute_result"
    }
   ],
   "source": [
    "chisqt = pd.crosstab(df['gender'],df['part_time_job'], margins=True)\n",
    "value = np.array([chisqt.iloc[0][0:].values, chisqt.iloc[1][0:].values])\n",
    "stats.chi2_contingency(value)\n"
   ]
  },
  {
   "cell_type": "markdown",
   "id": "1b2b2689-72a1-4385-8da9-b6961d5ff0f7",
   "metadata": {},
   "source": [
    "## Conclusion\n",
    "\n",
    "Since the p-value is greater than 0.05, we cannot reject the Null Hypothesis and conclude that there is no association between the said variables and that they are both independent of ach other and have no significant relationship."
   ]
  }
 ],
 "metadata": {
  "kernelspec": {
   "display_name": "Python 3 (ipykernel)",
   "language": "python",
   "name": "python3"
  },
  "language_info": {
   "codemirror_mode": {
    "name": "ipython",
    "version": 3
   },
   "file_extension": ".py",
   "mimetype": "text/x-python",
   "name": "python",
   "nbconvert_exporter": "python",
   "pygments_lexer": "ipython3",
   "version": "3.12.4"
  }
 },
 "nbformat": 4,
 "nbformat_minor": 5
}
